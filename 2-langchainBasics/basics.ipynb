{
 "cells": [
  {
   "cell_type": "code",
   "execution_count": 2,
   "id": "37e5b915",
   "metadata": {},
   "outputs": [],
   "source": [
    "import os\n",
    "from dotenv import load_dotenv\n"
   ]
  },
  {
   "cell_type": "code",
   "execution_count": 7,
   "id": "7bffbe0a",
   "metadata": {},
   "outputs": [
    {
     "data": {
      "text/plain": [
       "'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'"
      ]
     },
     "execution_count": 7,
     "metadata": {},
     "output_type": "execute_result"
    }
   ],
   "source": [
    "os.environ[\"OPENAI_API_KEY\"]=os.getenv(\"OPENAI_API_KEY\", \"your_openai_api_key_here\")\n",
    "os.environ[\"LANGCHAIN_API_KEY\"]=os.getenv(\"LANGCHAIN_API_KEY\", \"your_langchain_api_key_here\")\n",
    "os.environ[\"LANGCHAIN_PROJECT\"]=os.getenv(\"LANGCHAIN_PROJECT\", \"your_langchain_project_here\")\n",
    "os.environ[\"GROQ_API_KEY\"]=os.getenv(\"GROQ_API_KEY\", \"your_groq_api_key_here\")\n",
    "os.environ[\"LANGCHAIN_TRACING_V2\"]=\"true\"\n",
    "os.getenv(\"GROQ_API_KEY\", \"your_groq_api_key_here\")\n"
   ]
  },
  {
   "cell_type": "code",
   "execution_count": 10,
   "id": "b8b04a44",
   "metadata": {},
   "outputs": [
    {
     "name": "stdout",
     "output_type": "stream",
     "text": [
      "content='\\n<think>\\nOkay, the user wants a joke about cats. Let me think of some common cat-related humor. Cats are known for their playful antics, napping a lot, and sometimes being a bit aloof. Maybe something involving their behavior with lasers, since cats love chasing laser pointers but can\\'t catch them. Wait, I should make sure it\\'s not too similar to common ones. Hmm, maybe a pun? Or a play on words related to their habits.\\n\\nAlternatively, maybe a joke that combines a cat\\'s特性 with something unexpected. Like, \"Why did the cat sit on the computer?\" Because it wanted to keep an eye on the mouse! Oh, that\\'s a classic one, but maybe they want something newer. Let me check if that\\'s overused. Alternatively, how about involving a cat and a computer mouse? Yeah, that\\'s a classic pun. Maybe that\\'s still good. Let me structure it properly. \\n\\nWait, let me think again. The user might prefer a different angle. What about their nine lives? Or their love for boxes? Maybe the box one is common too. \"Why don\\'t cats play poker in the jungle? Because there are too many cheetahs!\" Hmm, that\\'s a play on \"too many cheetahs\" sounding like \"cheaters.\" But that\\'s more of a jungle animal joke. Maybe that\\'s a bit of a stretch. \\n\\nAlternatively, combining cat and something random. \"What do you call a cat that becomes a priest?\" A meow-nister! Hmm, that\\'s a pun on \"minister\" and \"meow.\" Not sure. Maybe the computer mouse joke is better because it\\'s relatable. Let me go with that one. \\n\\nWait, the computer mouse joke is pretty common. Maybe the user has heard it before. Let me think of another. How about a cat and a dog joke? \"Why can\\'t cats play tags? They’re allergic to dogs!\" Not sure. Maybe not.\\n\\nAlternatively, \"What do you get when you cross a cat with a computer?\" A mouse! That\\'s similar to the first idea. Wait, maybe that\\'s even better. Because then it\\'s a riddle setup. So the setup is the question, and the punchline is the pun on \"mouse\" as both the animal and the computer mouse. Yeah, that\\'s a solid joke. Let me check if that\\'s accurate. The answer would be \"A mouse!\" because a cat plus computer equals a mouse (the computer peripheral). That works. Okay, I think that\\'s a good one. Let me present it in a clear question-answer format.\\n</think>\\n\\nSure! Here\\'s a playful one:  \\n\\n**Why did the cat sit on the computer?**  \\n*Because it wanted to keep an eye on the mouse!* 🐱🖱️' additional_kwargs={} response_metadata={'token_usage': {'completion_tokens': 576, 'prompt_tokens': 16, 'total_tokens': 592, 'completion_time': 1.436760193, 'prompt_time': 0.005177475, 'queue_time': 5.009811962, 'total_time': 1.441937668}, 'model_name': 'qwen-qwq-32b', 'system_fingerprint': 'fp_1e88ca32eb', 'finish_reason': 'stop', 'logprobs': None} id='run--f4c263f3-879f-4b95-9eeb-ff3baf6bc294-0' usage_metadata={'input_tokens': 16, 'output_tokens': 576, 'total_tokens': 592}\n"
     ]
    }
   ],
   "source": [
    "from langchain_groq import ChatGroq\n",
    "\n",
    "model=ChatGroq(model=\"qwen-qwq-32b\")\n",
    "result=model.invoke(\"tell me a joke about cats\")\n",
    "print(result)"
   ]
  },
  {
   "cell_type": "code",
   "execution_count": null,
   "id": "2d4dbe23",
   "metadata": {},
   "outputs": [],
   "source": []
  },
  {
   "cell_type": "code",
   "execution_count": null,
   "id": "7829e428",
   "metadata": {},
   "outputs": [],
   "source": []
  },
  {
   "cell_type": "code",
   "execution_count": null,
   "id": "240a65d7",
   "metadata": {},
   "outputs": [],
   "source": []
  },
  {
   "cell_type": "code",
   "execution_count": null,
   "id": "3d9c470c",
   "metadata": {},
   "outputs": [],
   "source": []
  },
  {
   "cell_type": "code",
   "execution_count": null,
   "id": "fcfaf4b9",
   "metadata": {},
   "outputs": [],
   "source": []
  },
  {
   "cell_type": "code",
   "execution_count": null,
   "id": "09f608aa",
   "metadata": {},
   "outputs": [],
   "source": []
  },
  {
   "cell_type": "code",
   "execution_count": null,
   "id": "4d3d8cc5",
   "metadata": {},
   "outputs": [],
   "source": []
  },
  {
   "cell_type": "code",
   "execution_count": null,
   "id": "604c04e2",
   "metadata": {},
   "outputs": [],
   "source": []
  }
 ],
 "metadata": {
  "kernelspec": {
   "display_name": "venv",
   "language": "python",
   "name": "python3"
  },
  "language_info": {
   "codemirror_mode": {
    "name": "ipython",
    "version": 3
   },
   "file_extension": ".py",
   "mimetype": "text/x-python",
   "name": "python",
   "nbconvert_exporter": "python",
   "pygments_lexer": "ipython3",
   "version": "3.12.3"
  }
 },
 "nbformat": 4,
 "nbformat_minor": 5
}
