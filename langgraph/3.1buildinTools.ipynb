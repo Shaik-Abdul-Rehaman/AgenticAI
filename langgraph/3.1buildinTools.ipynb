{
 "cells": [
  {
   "cell_type": "code",
   "execution_count": 1,
   "id": "44b50ad2",
   "metadata": {},
   "outputs": [],
   "source": [
    "from langchain_community.tools import WikipediaQueryRun\n",
    "from langchain_community.utilities import WikipediaAPIWrapper\n"
   ]
  },
  {
   "cell_type": "code",
   "execution_count": 3,
   "id": "50f71419",
   "metadata": {},
   "outputs": [],
   "source": [
    "api_wrapper=WikipediaAPIWrapper(top_k_results=2, doc_content_chars_max=350)\n",
    "tool=WikipediaQueryRun(api_wrapper=api_wrapper)\n"
   ]
  },
  {
   "cell_type": "code",
   "execution_count": null,
   "id": "170eb231",
   "metadata": {},
   "outputs": [
    {
     "name": "stdout",
     "output_type": "stream",
     "text": [
      "tool description:-> A wrapper around Wikipedia. Useful for when you need to answer general questions about people, places, companies, facts, historical events, or other subjects. Input should be a search query.\n",
      "tool name:-> wikipedia\n",
      "tool args:-> {'query': {'description': 'query to look up on wikipedia', 'title': 'Query', 'type': 'string'}}\n"
     ]
    }
   ],
   "source": [
    "print(\"tool name:->\", tool.name)\n",
    "print(\"tool description:->\",tool.description)\n",
    "print(\"tool args:->\",tool.args)"
   ]
  },
  {
   "cell_type": "code",
   "execution_count": 6,
   "id": "b5100b39",
   "metadata": {},
   "outputs": [
    {
     "data": {
      "text/plain": [
       "'Page: MS Dhoni\\nSummary: Mahendra Singh Dhoni ( ; born 7 July 1981) is an Indian professional cricketer who plays as a right-handed batter and a wicket-keeper. Widely regarded as one of the most prolific wicket-keeper batsmen and captains and one of the greatest ODI batsmen, he represented the Indian cricket team and was the captain of the side in l'"
      ]
     },
     "execution_count": 6,
     "metadata": {},
     "output_type": "execute_result"
    }
   ],
   "source": [
    "tool.invoke(\"who is dhoni\")"
   ]
  },
  {
   "cell_type": "code",
   "execution_count": 8,
   "id": "b754129e",
   "metadata": {},
   "outputs": [
    {
     "data": {
      "text/plain": [
       "'Page: Agentic AI\\nSummary: Agentic AI is a class of artificial intelligence that focuses on autonomous systems that can make decisions and perform tasks without human intervention. The independent systems automatically respond to conditions, to produce process results. The field is closely linked to agentic automation, also known as agent-based proc'"
      ]
     },
     "execution_count": 8,
     "metadata": {},
     "output_type": "execute_result"
    }
   ],
   "source": [
    "tool.run(\"what is a tool in agentic workflow\")"
   ]
  },
  {
   "cell_type": "code",
   "execution_count": 9,
   "id": "c08cc84a",
   "metadata": {},
   "outputs": [
    {
     "data": {
      "text/plain": [
       "\"Page: Protests against Elon Musk\\nSummary: Starting in 2019, protests against businessman Elon Musk arose from various controversies, with the latest cases in 2025 reacting to Musk's involvement in the Department of Government Efficiency (DOGE) and Donald Trump's second administration. There were hundreds of protests in the United States, with addit\""
      ]
     },
     "execution_count": 9,
     "metadata": {},
     "output_type": "execute_result"
    }
   ],
   "source": [
    "tool.run({\"query\":\"latest news of elon musk\"})"
   ]
  },
  {
   "cell_type": "markdown",
   "id": "0d32f7d6",
   "metadata": {},
   "source": [
    "### YouTubeSearchTool :-> \n",
    "search for youtube videos associated with a person. the input to this tool should be a comma separated list, the first part contains a person name and the second a number that is the maximum number of video results to return aka num_results. the second part is optional\n"
   ]
  },
  {
   "cell_type": "code",
   "execution_count": 10,
   "id": "5b435a83",
   "metadata": {},
   "outputs": [
    {
     "name": "stdout",
     "output_type": "stream",
     "text": [
      "tool name:-> youtube_search\n",
      "tool description:-> search for youtube videos associated with a person. the input to this tool should be a comma separated list, the first part contains a person name and the second a number that is the maximum number of video results to return aka num_results. the second part is optional\n",
      "tool args:-> {'query': {'title': 'Query', 'type': 'string'}}\n"
     ]
    }
   ],
   "source": [
    "from langchain_community.tools import YouTubeSearchTool\n",
    "tool1=YouTubeSearchTool()\n",
    "print(\"tool name:->\", tool1.name)\n",
    "print(\"tool description:->\",tool1.description)\n",
    "print(\"tool args:->\",tool1.args)"
   ]
  },
  {
   "cell_type": "code",
   "execution_count": 14,
   "id": "94e2044c",
   "metadata": {},
   "outputs": [
    {
     "name": "stdout",
     "output_type": "stream",
     "text": [
      "\u001b[32;1m\u001b[1;3m['https://www.youtube.com/watch?v=irqbmMNs2Bo&pp=ygUMYXBuYSBjb2xsZWdl', 'https://www.youtube.com/watch?v=HcOc7P5BMi4&pp=ygUMYXBuYSBjb2xsZWdl']\u001b[0m"
     ]
    },
    {
     "data": {
      "text/plain": [
       "\"['https://www.youtube.com/watch?v=irqbmMNs2Bo&pp=ygUMYXBuYSBjb2xsZWdl', 'https://www.youtube.com/watch?v=HcOc7P5BMi4&pp=ygUMYXBuYSBjb2xsZWdl']\""
      ]
     },
     "execution_count": 14,
     "metadata": {},
     "output_type": "execute_result"
    }
   ],
   "source": [
    "tool1.run(\"apna college\",4)"
   ]
  },
  {
   "cell_type": "code",
   "execution_count": 16,
   "id": "ca530045",
   "metadata": {},
   "outputs": [
    {
     "data": {
      "text/plain": [
       "\"['https://www.youtube.com/watch?v=yIYKR4sgzI8&pp=ygUTbG9naXN0aWMgUmVncmVzc2lvbg%3D%3D', 'https://www.youtube.com/watch?v=het9HFqo1TQ&pp=ygUTbG9naXN0aWMgUmVncmVzc2lvbg%3D%3D']\""
      ]
     },
     "execution_count": 16,
     "metadata": {},
     "output_type": "execute_result"
    }
   ],
   "source": [
    "\n",
    "tool.run(\"logistic Regression\")\n",
    "\n"
   ]
  },
  {
   "cell_type": "code",
   "execution_count": 17,
   "id": "019f8b0a",
   "metadata": {},
   "outputs": [],
   "source": [
    "from langchain_community.tools.tavily_search import TavilySearchResults\n",
    "import os\n",
    "TAVILY_API_KEY=os.getenv(\"TAVILY_API_KEY\")"
   ]
  },
  {
   "cell_type": "code",
   "execution_count": null,
   "id": "107a2a52",
   "metadata": {},
   "outputs": [],
   "source": [
    "tool=TavilySearchResults(tavily_api_key=TAVILY_API_KEY)\n",
    "tool.invoke({\"query\":\"what happend in RCB victory celebration?\"})\n"
   ]
  },
  {
   "cell_type": "code",
   "execution_count": null,
   "id": "c5f5013b",
   "metadata": {},
   "outputs": [],
   "source": []
  }
 ],
 "metadata": {
  "kernelspec": {
   "display_name": "venv",
   "language": "python",
   "name": "python3"
  },
  "language_info": {
   "codemirror_mode": {
    "name": "ipython",
    "version": 3
   },
   "file_extension": ".py",
   "mimetype": "text/x-python",
   "name": "python",
   "nbconvert_exporter": "python",
   "pygments_lexer": "ipython3",
   "version": "3.12.3"
  }
 },
 "nbformat": 4,
 "nbformat_minor": 5
}
